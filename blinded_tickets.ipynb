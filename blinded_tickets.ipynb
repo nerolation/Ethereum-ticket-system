{
 "cells": [
  {
   "cell_type": "markdown",
   "id": "74aea48e",
   "metadata": {},
   "source": [
    "## Ticket System for paying for Transaction Fees"
   ]
  },
  {
   "cell_type": "markdown",
   "id": "3f24c01a",
   "metadata": {},
   "source": [
    "The following code is a PoC of the ticket-system descibed by Vitalik in [this](https://vitalik.ca/general/2023/01/20/stealth.html) blog post.\n",
    "\n",
    "Essentially, users register a ticket at the coordinator by sending them small abounts of funds together with a blinded message. The coordinator verifies that the funds arrived and then signes the (chaumian) blinded message (blinded ticket) and returns it to the user. The user can then exteact the signature and ask the coordinator to fund a certain address. The coordinator would do so without being able to establish a link between the ticket purchase and the redemption.\n",
    "\n",
    "In the following code coordinator == searcher "
   ]
  },
  {
   "cell_type": "code",
   "execution_count": 1,
   "id": "b4b1fa58",
   "metadata": {},
   "outputs": [],
   "source": [
    "from web3 import Web3\n",
    "from eth_account import Account\n",
    "import os\n",
    "from Crypto.PublicKey import RSA\n",
    "from Crypto.Util.number import inverse, bytes_to_long, long_to_bytes\n",
    "from Crypto.Random import get_random_bytes\n",
    "from Crypto.Hash import SHA256\n",
    "\n",
    "web3 = Web3(Web3.HTTPProvider('your endpoint'))\n",
    "\n",
    "skip_broadcasting_tx = True"
   ]
  },
  {
   "cell_type": "markdown",
   "id": "c6823eb1",
   "metadata": {},
   "source": [
    "## CONSTANTS"
   ]
  },
  {
   "cell_type": "code",
   "execution_count": 2,
   "id": "d92031e4",
   "metadata": {},
   "outputs": [
    {
     "name": "stdout",
     "output_type": "stream",
     "text": [
      "Sender account\n",
      "Address: 0xAbCD4744528F1aD0cD13004bE4Dae5179B0353C5\n",
      "Sender private Key: 0x90060b269fcf40d094705f925faffa4e6758dac75c247db3fab48c3571720882\n",
      "\n",
      "Searcher address: 0xF0109fC8DF283027b6285cc889F5aA624EaC1F55\n"
     ]
    }
   ],
   "source": [
    "sender_account = Account.create(os.urandom(32))\n",
    "sender_private_key = sender_account.privateKey.hex()\n",
    "sender_address = sender_account.address\n",
    "\n",
    "# Searcher's address and RSA keys\n",
    "searcher_address = '0xF0109fC8DF283027b6285cc889F5aA624EaC1F55'\n",
    "searcher_RSA_private_key = RSA.generate(2048)\n",
    "searcher_RSA_public_key  = searcher_RSA_private_key.publickey()\n",
    "\n",
    "print(f'Sender account\\nAddress: {sender_address}\\nSender private Key: {sender_private_key}\\n')\n",
    "print(f'Searcher address: {searcher_address}')"
   ]
  },
  {
   "cell_type": "markdown",
   "id": "cecb96db",
   "metadata": {},
   "source": [
    " "
   ]
  },
  {
   "cell_type": "markdown",
   "id": "293d8fd2",
   "metadata": {},
   "source": [
    " "
   ]
  },
  {
   "cell_type": "markdown",
   "id": "9860f60f",
   "metadata": {},
   "source": [
    " "
   ]
  },
  {
   "cell_type": "markdown",
   "id": "74840694",
   "metadata": {},
   "source": [
    "# Sender (wants to register ticket at searcher)"
   ]
  },
  {
   "cell_type": "markdown",
   "id": "24015115",
   "metadata": {},
   "source": [
    "## Generate ticket"
   ]
  },
  {
   "cell_type": "code",
   "execution_count": 3,
   "id": "b555bc40",
   "metadata": {},
   "outputs": [],
   "source": [
    "# Sender's unblinded ticket\n",
    "unblinded_ticket = b'This is Tonis ticket #1'\n",
    "\n",
    "# Hash the unblinded ticket\n",
    "unblinded_ticket_hash = SHA256.new(unblinded_ticket).digest()\n",
    "\n",
    "# Convert unblinded ticket hash to a number for RSA operations\n",
    "unblinded_ticket_long = bytes_to_long(unblinded_ticket_hash)"
   ]
  },
  {
   "cell_type": "markdown",
   "id": "f9ee45dc",
   "metadata": {},
   "source": [
    "## Blind ticket"
   ]
  },
  {
   "cell_type": "code",
   "execution_count": 4,
   "id": "1e4c6aef",
   "metadata": {},
   "outputs": [
    {
     "name": "stdout",
     "output_type": "stream",
     "text": [
      "Blinded ticket:\n",
      "0x753baaab7205193f9ed327928cd8390b6f569eabd145acdd92e57cee6661642b7801da65f046bdf9e0971dac05265ffe8eee12353da633565d791269e03ef4a6db1e155806aa597414e109cfc75951d028a594a6c092eed5ec2064ceed6dc1774c969310548f98e28b752a62b379a45a4f168d23018ceec57dad12e89de1d990ddc8435aa333f905c9acb3adea7cd983d2409a76ba02c297e10850b001595b92dc0b360d5db057d2afb58b55f10e327a65abbfd07b806cad74352c312dec6e29a5d56cabbbcb32d1798eaea876e1275388f7998b34a78bce85e735d8b2907363a363df6866faee1c71c497793ed820405a54808d8bbc48d7827126b2bdb00aa\n"
     ]
    }
   ],
   "source": [
    "# Choose a random blinding factor and compute the blinded ticket\n",
    "blinding_factor = bytes_to_long(get_random_bytes(256)) % searcher_RSA_public_key.n\n",
    "blinded_ticket = (\n",
    "    unblinded_ticket_long * pow(blinding_factor, searcher_RSA_public_key.e,searcher_RSA_public_key.n)\n",
    ") % searcher_RSA_public_key.n\n",
    "\n",
    "print(f'Blinded ticket:\\n{web3.toHex(blinded_ticket)}')"
   ]
  },
  {
   "cell_type": "markdown",
   "id": "b34d7695",
   "metadata": {},
   "source": [
    "## Send funds + blinded ticket to searcher"
   ]
  },
  {
   "cell_type": "code",
   "execution_count": 5,
   "id": "000c4298",
   "metadata": {},
   "outputs": [
    {
     "name": "stdout",
     "output_type": "stream",
     "text": [
      "Signed transaction\n",
      "0xf9016d80850ba43b740082520894f0109fc8df283027b6285cc889f5aa624eac1f55872386f26fc10000b901000753baaab7205193f9ed327928cd8390b6f569eabd145acdd92e57cee6661642b7801da65f046bdf9e0971dac05265ffe8eee12353da633565d791269e03ef4a6db1e155806aa597414e109cfc75951d028a594a6c092eed5ec2064ceed6dc1774c969310548f98e28b752a62b379a45a4f168d23018ceec57dad12e89de1d990ddc8435aa333f905c9acb3adea7cd983d2409a76ba02c297e10850b001595b92dc0b360d5db057d2afb58b55f10e327a65abbfd07b806cad74352c312dec6e29a5d56cabbbcb32d1798eaea876e1275388f7998b34a78bce85e735d8b2907363a363df6866faee1c71c497793ed820405a54808d8bbc48d7827126b2bdb00aa26a08044c6c3773ea427628329d6fc24db7fbfb20c6ee03e4b98df7c29c84e50e7d3a022d803311da5de1bbb0c69a856077f134e39b337b725a83807e0dd8321fe26c9\n"
     ]
    }
   ],
   "source": [
    "# Details of the transaction\n",
    "transaction = {\n",
    "    'to': searcher_address,  \n",
    "    'value': web3.toWei(0.01, 'ether'),  \n",
    "    'gas': 21000,\n",
    "    'gasPrice': web3.toWei('50', 'gwei'),\n",
    "    'nonce': web3.eth.getTransactionCount(sender_account.address),  \n",
    "    'chainId': 1,\n",
    "    'data': web3.toHex(blinded_ticket)\n",
    "}\n",
    "\n",
    "# Sign the transaction\n",
    "signed_txn = web3.eth.account.sign_transaction(transaction, sender_private_key)\n",
    "\n",
    "# Get the raw transaction\n",
    "raw_transaction = signed_txn.rawTransaction\n",
    "\n",
    "print(f'Signed transaction\\n{raw_transaction.hex()}')"
   ]
  },
  {
   "cell_type": "markdown",
   "id": "055c3dfa",
   "metadata": {},
   "source": [
    "The signed transaction can now be broadcasted"
   ]
  },
  {
   "cell_type": "code",
   "execution_count": 6,
   "id": "41132c32",
   "metadata": {},
   "outputs": [],
   "source": [
    "# Skip this cell and assumet to have a valid tx hash\n",
    "if not skip_broadcasting_tx:\n",
    "    sender_tx_hash = w3.eth.sendRawTransaction(signed_transaction.rawTransaction)"
   ]
  },
  {
   "cell_type": "markdown",
   "id": "9c7c166d",
   "metadata": {},
   "source": [
    " "
   ]
  },
  {
   "cell_type": "markdown",
   "id": "e7876a83",
   "metadata": {},
   "source": [
    " "
   ]
  },
  {
   "cell_type": "markdown",
   "id": "37b2c806",
   "metadata": {},
   "source": [
    "# Searcher (accepts tickets)"
   ]
  },
  {
   "cell_type": "markdown",
   "id": "c2526b41",
   "metadata": {},
   "source": [
    "Searcher parses the transaction, verififies the receipt of funds and retrieves the blinded ticket hash"
   ]
  },
  {
   "cell_type": "code",
   "execution_count": 7,
   "id": "42ff9d84",
   "metadata": {},
   "outputs": [],
   "source": [
    "# Skip this cell and assumet to have a valid blinded ticket\n",
    "if not skip_broadcasting_tx:\n",
    "    transaction = web3.eth.getTransaction(sender_tx_hash)\n",
    "\n",
    "    # The 'input' field contains the ticket\n",
    "    blinded_ticket_hex = transaction['input']\n",
    "\n",
    "    # Now convert the hexadecimal string back to an integer\n",
    "    blinded_ticket = int(blinded_ticket_hash_hex, 16)"
   ]
  },
  {
   "cell_type": "markdown",
   "id": "9f06e812",
   "metadata": {},
   "source": [
    "## Sign blinded ticket"
   ]
  },
  {
   "cell_type": "code",
   "execution_count": 8,
   "id": "692ae17b",
   "metadata": {},
   "outputs": [
    {
     "name": "stdout",
     "output_type": "stream",
     "text": [
      "Signed blinded ticket\n",
      "0x24978793605fb40fd3931fb388998645a13327c75dac2950e5351fcb8a5abc14e14bde7444d7602d54dcf3c77109a2c52c2cd95097805e20ed7164dd53c896610aae0a8f4ddce8a08ed037291ae8c52fa2b70eb6c981721f0e39f1357072470c187cd3bdc22919e3f189b9f255d40d9de69886b78a7fafb38411290ba87ce102ee3bbbe6737f2cc2edc748ed6fd5b6d4322990be5e594236a708ef41b284d1e9515340b1f66ac4d783be3887c3976dfa0b8bf4fa891dc49087c7a66dc00569dfd5ffb93b2dfecd419af5ca3737fb2cbe598ab3af4168dfde99b4b63e100996bc922967974b298622720021de7622b829114b2268d3b9eb50f33062aee31b53ff\n"
     ]
    }
   ],
   "source": [
    "# Searcher signs the blinded message\n",
    "signed_blinded_ticket = pow(blinded_ticket, searcher_RSA_private_key.d, searcher_RSA_public_key.n)\n",
    "print(f'Signed blinded ticket\\n{web3.toHex(signed_blinded_ticket)}')"
   ]
  },
  {
   "cell_type": "markdown",
   "id": "42763284",
   "metadata": {},
   "source": [
    "Searcher sends the signed blinded ticket to the sender"
   ]
  },
  {
   "cell_type": "markdown",
   "id": "8220499c",
   "metadata": {},
   "source": [
    " "
   ]
  },
  {
   "cell_type": "markdown",
   "id": "994af3d0",
   "metadata": {},
   "source": [
    " "
   ]
  },
  {
   "cell_type": "markdown",
   "id": "fb11fd8e",
   "metadata": {},
   "source": [
    " "
   ]
  },
  {
   "cell_type": "markdown",
   "id": "3261b42a",
   "metadata": {},
   "source": [
    "# Sender "
   ]
  },
  {
   "cell_type": "code",
   "execution_count": 9,
   "id": "8bea68d8",
   "metadata": {},
   "outputs": [
    {
     "name": "stdout",
     "output_type": "stream",
     "text": [
      "Signature of searcher valid!\n",
      "\n",
      "Searcher signature\n",
      "0x71d4f44a56ef5bec0a774fa55dee02f4f61d980c6da65cfe63cf30b50248b5fdf23a1037eb4323643be4c12d176e1b71aaaadcb5a846b11d1cfb77d94eec7d4c0424c46b65138fff3d591484314e226955083dddf084e3a9f8682e26804c3875e621c4bf68694d02c663435207cc19c438c5cc6a820eae14b33ae5382583dc54fdc5ebd05e93be808499130d32ad1b3e956615f8f742b2b4d87442024d7d592ec2506d73f9e2fb9591b11eeb75e13cce561964be5ea0bd5ae1ff37f95558c46b46fd6be262aa0e77395c373ba9ab91bade8f52a791dc40a578063f74ee502ae69bdffedb77aeb2fa62dd9421e33958d38b0cfa52813f8f9c9fc5216439daeef6\n"
     ]
    }
   ],
   "source": [
    "# Sender unblinds the signed ticket hash\n",
    "signature = (signed_blinded_ticket * inverse(blinding_factor, searcher_RSA_public_key.n)) % searcher_RSA_public_key.n\n",
    "\n",
    "# Verify the signature\n",
    "assert pow(signature, searcher_RSA_public_key.e, searcher_RSA_public_key.n) == unblinded_ticket_long\n",
    "\n",
    "print(\"Signature of searcher valid!\\n\")\n",
    "print(f'Searcher signature\\n{web3.toHex(signature)}')"
   ]
  },
  {
   "cell_type": "markdown",
   "id": "fad6437b",
   "metadata": {},
   "source": [
    "Sender can now priovide the signature to the searcher, proving it has registered a ticket \n",
    "The searcher would include the transaction in a bundle (or, because of EIP1559, fund the unfunded account of the sender). In compensation, the searcher would invalidate the used ticket by storing the signature/blinded ticket in a db."
   ]
  },
  {
   "cell_type": "code",
   "execution_count": 10,
   "id": "fee58aa6",
   "metadata": {},
   "outputs": [
    {
     "name": "stdout",
     "output_type": "stream",
     "text": [
      "Signed transaction\n",
      "0xf9016d80850ba43b740082520894abcd4744528f1ad0cd13004be4dae5179b0353c5872386f26fc10000b9010071d4f44a56ef5bec0a774fa55dee02f4f61d980c6da65cfe63cf30b50248b5fdf23a1037eb4323643be4c12d176e1b71aaaadcb5a846b11d1cfb77d94eec7d4c0424c46b65138fff3d591484314e226955083dddf084e3a9f8682e26804c3875e621c4bf68694d02c663435207cc19c438c5cc6a820eae14b33ae5382583dc54fdc5ebd05e93be808499130d32ad1b3e956615f8f742b2b4d87442024d7d592ec2506d73f9e2fb9591b11eeb75e13cce561964be5ea0bd5ae1ff37f95558c46b46fd6be262aa0e77395c373ba9ab91bade8f52a791dc40a578063f74ee502ae69bdffedb77aeb2fa62dd9421e33958d38b0cfa52813f8f9c9fc5216439daeef625a038594e167e1ea419c66c7caf88ae07e3498d1cb510dcb86c0f41d53d5502b647a05db308d351b785b1a0150a9e86d9dee3bbfeae334ffa0baea309b4e302d37126\n"
     ]
    }
   ],
   "source": [
    "transaction = {\n",
    "    'to': sender_account.address,  # This would actually be the unfunded account\n",
    "    'value': web3.toWei(0.01, 'ether'),  \n",
    "    'gas': 21000,\n",
    "    'gasPrice': web3.toWei('50', 'gwei'),\n",
    "    'nonce': web3.eth.getTransactionCount(sender_account.address),  \n",
    "    'chainId': 1,\n",
    "    'data': web3.toHex(signature)\n",
    "}\n",
    "\n",
    "# Sign the transaction\n",
    "signed_txn = web3.eth.account.sign_transaction(transaction, sender_private_key)\n",
    "\n",
    "# Get the raw transaction\n",
    "raw_transaction = signed_txn.rawTransaction\n",
    "\n",
    "print(f'Signed transaction\\n{raw_transaction.hex()}')"
   ]
  },
  {
   "cell_type": "markdown",
   "id": "12909715",
   "metadata": {},
   "source": [
    "Searcher could now include the transaction (although not paying anything) and invalidate the used ticket"
   ]
  },
  {
   "cell_type": "markdown",
   "id": "93f18b18",
   "metadata": {},
   "source": [
    "# Searcher (verifys tickets)"
   ]
  },
  {
   "cell_type": "code",
   "execution_count": 11,
   "id": "a2a00d56",
   "metadata": {},
   "outputs": [
    {
     "name": "stdout",
     "output_type": "stream",
     "text": [
      "Validator confirms the signature is valid!\n"
     ]
    }
   ],
   "source": [
    "# Validator converts the message to a long for RSA operations\n",
    "original_message_long_validator = bytes_to_long(unblinded_ticket_hash)\n",
    "\n",
    "# Validator verifies the signature\n",
    "assert pow(signature, searcher_RSA_public_key.e, searcher_RSA_public_key.n) == original_message_long_validator\n",
    "\n",
    "print(\"Searcher confirms the signature is valid!\")"
   ]
  }
 ],
 "metadata": {
  "kernelspec": {
   "display_name": "mev",
   "language": "python",
   "name": "mev"
  },
  "language_info": {
   "codemirror_mode": {
    "name": "ipython",
    "version": 3
   },
   "file_extension": ".py",
   "mimetype": "text/x-python",
   "name": "python",
   "nbconvert_exporter": "python",
   "pygments_lexer": "ipython3",
   "version": "3.8.9"
  }
 },
 "nbformat": 4,
 "nbformat_minor": 5
}
