{
 "cells": [
  {
   "cell_type": "markdown",
   "id": "5fde63ce",
   "metadata": {},
   "source": [
    "## Ticket System for paying for Transaction Fees"
   ]
  },
  {
   "cell_type": "markdown",
   "id": "772fe3a9",
   "metadata": {},
   "source": [
    "The following code is a PoC of the ticket-system descibed by Vitalik in [this](https://vitalik.ca/general/2023/01/20/stealth.html) blog post.\n",
    "\n",
    "Essentially, users register a ticket at searchers by sending them small abounts of funds together with a blinded message. The searcher verifies that the funds arrived and then signes the (chaumian) blinded message (blinded ticket) and returns it to the user. The user can then broadcast a transaction not paying any fees (within the transaction). The searcher would pick it up, include it into a block and invalidate the used blinded ticket/signature."
   ]
  },
  {
   "cell_type": "code",
   "execution_count": 1,
   "id": "9ff042c9",
   "metadata": {},
   "outputs": [],
   "source": [
    "from web3 import Web3\n",
    "from eth_account import Account\n",
    "import os\n",
    "from Crypto.PublicKey import RSA\n",
    "from Crypto.Util.number import inverse, bytes_to_long, long_to_bytes\n",
    "from Crypto.Random import get_random_bytes\n",
    "from Crypto.Hash import SHA256\n",
    "\n",
    "web3 = Web3(Web3.HTTPProvider('<YOUR RPC ENDPOINT>'))\n",
    "\n",
    "skip_broadcasting_tx = True"
   ]
  },
  {
   "cell_type": "markdown",
   "id": "4275b12d",
   "metadata": {},
   "source": [
    "## CONSTANTS"
   ]
  },
  {
   "cell_type": "code",
   "execution_count": 2,
   "id": "9d176fa4",
   "metadata": {},
   "outputs": [
    {
     "name": "stdout",
     "output_type": "stream",
     "text": [
      "Sender account\n",
      "Address: 0x6e06F006CD1eF148960970C546107325123360ee\n",
      "Sender private Key: 0xdffcd0b452b2a3ebe74ff22f9b394f0b790f54d3f50bba6ca31cac9df3f58b09\n",
      "\n",
      "Searcher address: 0xF0109fC8DF283027b6285cc889F5aA624EaC1F55\n"
     ]
    }
   ],
   "source": [
    "sender_account = Account.create(os.urandom(32))\n",
    "sender_private_key = sender_account.privateKey.hex()\n",
    "sender_address = sender_account.address\n",
    "\n",
    "# Searcher's address and RSA keys\n",
    "searcher_address = '0xF0109fC8DF283027b6285cc889F5aA624EaC1F55'\n",
    "searcher_RSA_private_key = RSA.generate(2048)\n",
    "searcher_RSA_public_key  = searcher_RSA_private_key.publickey()\n",
    "\n",
    "print(f'Sender account\\nAddress: {sender_address}\\nSender private Key: {sender_private_key}\\n')\n",
    "print(f'Searcher address: {searcher_address}')"
   ]
  },
  {
   "cell_type": "markdown",
   "id": "34fe0434",
   "metadata": {},
   "source": [
    " "
   ]
  },
  {
   "cell_type": "markdown",
   "id": "976bd57e",
   "metadata": {},
   "source": [
    " "
   ]
  },
  {
   "cell_type": "markdown",
   "id": "09ec554f",
   "metadata": {},
   "source": [
    " "
   ]
  },
  {
   "cell_type": "markdown",
   "id": "6ed83d74",
   "metadata": {},
   "source": [
    "# Sender (wants to register ticket at searcher)"
   ]
  },
  {
   "cell_type": "markdown",
   "id": "8306202d",
   "metadata": {},
   "source": [
    "## Generate ticket"
   ]
  },
  {
   "cell_type": "code",
   "execution_count": 3,
   "id": "d1de8903",
   "metadata": {},
   "outputs": [],
   "source": [
    "# Sender's unblinded ticket\n",
    "unblinded_ticket = b'This is Tonis ticket #1'\n",
    "\n",
    "# Hash the unblinded ticket\n",
    "unblinded_ticket_hash = SHA256.new(unblinded_ticket).digest()\n",
    "\n",
    "# Convert unblinded ticket hash to a number for RSA operations\n",
    "unblinded_ticket_long = bytes_to_long(unblinded_ticket_hash)"
   ]
  },
  {
   "cell_type": "markdown",
   "id": "a2877df9",
   "metadata": {},
   "source": [
    "## Blind ticket"
   ]
  },
  {
   "cell_type": "code",
   "execution_count": 4,
   "id": "d84a1664",
   "metadata": {},
   "outputs": [
    {
     "name": "stdout",
     "output_type": "stream",
     "text": [
      "Blinded ticket:\n",
      "0x51fa10bcf797d305cffa74904e1ce89219e7cd1f1a240c5cd6a6f0dd97f048baeca4283c0e04d47a1b689a36d8b19f77a45d1d22aa9d934c71ce3cd5d485ba278a04de31ab9bd4c53290e70e007f75b95bd6d3ba0c07542d3a504fbe08d5dbc6e4c0368ca65c7a2f0387b85122c104e914f749b008b856392c29c4803c8eccaea7c1f903b8034d5fd794c4dd14dc833a48f8095bf7bccc38dc68aa1c0d716013c6e9e559132dbd29edf373d3803b4df7f8a8121a599fa4657787a747b6e21c33dc5452529ec1d6998ebb3eac2398e69cccd3ccfd7cdccf92d444c39eed457f70aed97b7c248ea197ac5a16b5cee8e1f3f0edf9de7ef4a544cff6b1b68996bc70\n"
     ]
    }
   ],
   "source": [
    "# Choose a random blinding factor and compute the blinded ticket\n",
    "blinding_factor = bytes_to_long(get_random_bytes(256)) % searcher_RSA_public_key.n\n",
    "blinded_ticket = (\n",
    "    unblinded_ticket_long * pow(blinding_factor, searcher_RSA_public_key.e,searcher_RSA_public_key.n)\n",
    ") % searcher_RSA_public_key.n\n",
    "\n",
    "print(f'Blinded ticket:\\n{web3.toHex(blinded_ticket)}')"
   ]
  },
  {
   "cell_type": "markdown",
   "id": "c5c8dffc",
   "metadata": {},
   "source": [
    "## Send funds + blinded ticket to searcher"
   ]
  },
  {
   "cell_type": "code",
   "execution_count": 5,
   "id": "cc7dcfb5",
   "metadata": {},
   "outputs": [
    {
     "name": "stdout",
     "output_type": "stream",
     "text": [
      "Signed transaction\n",
      "0xf9016d80850ba43b740082520894f0109fc8df283027b6285cc889f5aa624eac1f55872386f26fc10000b9010051fa10bcf797d305cffa74904e1ce89219e7cd1f1a240c5cd6a6f0dd97f048baeca4283c0e04d47a1b689a36d8b19f77a45d1d22aa9d934c71ce3cd5d485ba278a04de31ab9bd4c53290e70e007f75b95bd6d3ba0c07542d3a504fbe08d5dbc6e4c0368ca65c7a2f0387b85122c104e914f749b008b856392c29c4803c8eccaea7c1f903b8034d5fd794c4dd14dc833a48f8095bf7bccc38dc68aa1c0d716013c6e9e559132dbd29edf373d3803b4df7f8a8121a599fa4657787a747b6e21c33dc5452529ec1d6998ebb3eac2398e69cccd3ccfd7cdccf92d444c39eed457f70aed97b7c248ea197ac5a16b5cee8e1f3f0edf9de7ef4a544cff6b1b68996bc7026a08e7f11f5d4eec38b40c4903c4eb797f86d7d31759b0237ddab5944c850ee0f9ca0599d9b653e7d96c92e73459778584ceb2b6d11c907c7e345f8fc0e083195d2e5\n"
     ]
    }
   ],
   "source": [
    "# Details of the transaction\n",
    "transaction = {\n",
    "    'to': searcher_address,  \n",
    "    'value': web3.toWei(0.01, 'ether'),  \n",
    "    'gas': 21000,\n",
    "    'gasPrice': web3.toWei('50', 'gwei'),\n",
    "    'nonce': web3.eth.getTransactionCount(sender_account.address),  \n",
    "    'chainId': 1,\n",
    "    'data': web3.toHex(blinded_ticket)\n",
    "}\n",
    "\n",
    "# Sign the transaction\n",
    "signed_txn = web3.eth.account.sign_transaction(transaction, sender_private_key)\n",
    "\n",
    "# Get the raw transaction\n",
    "raw_transaction = signed_txn.rawTransaction\n",
    "\n",
    "print(f'Signed transaction\\n{raw_transaction.hex()}')"
   ]
  },
  {
   "cell_type": "markdown",
   "id": "b0f97744",
   "metadata": {},
   "source": [
    "The signed transaction can now be broadcasted"
   ]
  },
  {
   "cell_type": "code",
   "execution_count": 6,
   "id": "2b99112d",
   "metadata": {},
   "outputs": [],
   "source": [
    "# Skip this cell and assumet to have a valid tx hash\n",
    "if not skip_broadcasting_tx:\n",
    "    sender_tx_hash = w3.eth.sendRawTransaction(signed_transaction.rawTransaction)"
   ]
  },
  {
   "cell_type": "markdown",
   "id": "725785d2",
   "metadata": {},
   "source": [
    " "
   ]
  },
  {
   "cell_type": "markdown",
   "id": "f081893c",
   "metadata": {},
   "source": [
    " "
   ]
  },
  {
   "cell_type": "markdown",
   "id": "064356f7",
   "metadata": {},
   "source": [
    "# Searcher (accepts tickets)"
   ]
  },
  {
   "cell_type": "markdown",
   "id": "c260b134",
   "metadata": {},
   "source": [
    "Searcher parses the transaction, verififies the receipt of funds and retrieves the blinded ticket hash"
   ]
  },
  {
   "cell_type": "code",
   "execution_count": 7,
   "id": "886516c4",
   "metadata": {},
   "outputs": [],
   "source": [
    "# Skip this cell and assumet to have a valid blinded ticket\n",
    "if not skip_broadcasting_tx:\n",
    "    transaction = web3.eth.getTransaction(sender_tx_hash)\n",
    "\n",
    "    # The 'input' field contains the ticket\n",
    "    blinded_ticket_hex = transaction['input']\n",
    "\n",
    "    # Now convert the hexadecimal string back to an integer\n",
    "    blinded_ticket = int(blinded_ticket_hash_hex, 16)"
   ]
  },
  {
   "cell_type": "markdown",
   "id": "9d1d9492",
   "metadata": {},
   "source": [
    "## Sign blinded ticket"
   ]
  },
  {
   "cell_type": "code",
   "execution_count": 8,
   "id": "8b697920",
   "metadata": {},
   "outputs": [
    {
     "name": "stdout",
     "output_type": "stream",
     "text": [
      "Signed blinded ticket\n",
      "0x40633423943e1da1777b084cb65634f03a5a8c8703bcb08523731fbbd8a4017a3240c909799ee0eae3e556715086ef606a4ac2dbc7358bf4bc628297b61103a4712d25fc5cd31f87a3db5e44ee076f19a075ba878cb565f38df8cb8ff569b77affd6e0dd2f7204fec27c6d42710534cbddd96a0f6722366bc8d5c24ac04f0ef0704b90a208ad03a69bf44b1b7a6162a77e37d485d67d65cd4ef9b42c9327c8e393868c008b0bcb3469fa0319a0dd310abea992b3041135c43b9e390840e3013b2d9abe5ddd259981c334f17ed850a318e7c35f3feff9c1ff7fba345cc025574d6530a66a89e8ad30bbf6020d72f69838d0de8b53b4c2b515bf5fdab3abf4aa0b\n"
     ]
    }
   ],
   "source": [
    "# Searcher signs the blinded message\n",
    "signed_blinded_ticket = pow(blinded_ticket, searcher_RSA_private_key.d, searcher_RSA_public_key.n)\n",
    "print(f'Signed blinded ticket\\n{web3.toHex(signed_blinded_ticket)}')"
   ]
  },
  {
   "cell_type": "markdown",
   "id": "7dc4cb4c",
   "metadata": {},
   "source": [
    "Searcher sends the signed blinded ticket to the sender (let's ignore how) - maybe encrypt it with the sender's pubkey and put it into the next built block and let the sender parse those blocks"
   ]
  },
  {
   "cell_type": "markdown",
   "id": "ea095c94",
   "metadata": {},
   "source": [
    " "
   ]
  },
  {
   "cell_type": "markdown",
   "id": "ebd38bb7",
   "metadata": {},
   "source": [
    " "
   ]
  },
  {
   "cell_type": "markdown",
   "id": "a3535528",
   "metadata": {},
   "source": [
    " "
   ]
  },
  {
   "cell_type": "markdown",
   "id": "7a5a78c2",
   "metadata": {},
   "source": [
    "# Sender "
   ]
  },
  {
   "cell_type": "code",
   "execution_count": 9,
   "id": "ea590a73",
   "metadata": {},
   "outputs": [
    {
     "name": "stdout",
     "output_type": "stream",
     "text": [
      "Signature of searcher valid!\n",
      "\n",
      "Searcher signature\n",
      "0x934f59ea90e74a79299da951d705d1235f9002c0c878bd468d5695a3de4e9a5c6a4dd11e7f4c9a226b10e64b1e1221f5af6dcb8261fe23b13a572fed518379c760d206b8ea5235184ba25b3f46cd8cb486390776f2eaf73921e869266b7bce7bc516e8bafe060563f8db25b95e9c7dfb2de9f78a09c01e6470561c9734599061dfe787f714d26d37b2800b01c53f1d4f1358e9ba94c00d668ee1f44fda8485bdb525037cc9686cc3736db8ec9ce981e1d065fa7e3483341d066c816c0fd54e13f8560dbc3019d09c607ee0e4ce3d8b616bcaa4311642072cfc2d011344f3462562d203b2cce362588267849edd6e1a92c42e9f316e76288215c6806dfa4010da\n"
     ]
    }
   ],
   "source": [
    "# Sender unblinds the signed ticket hash\n",
    "signature = (signed_blinded_ticket * inverse(blinding_factor, searcher_RSA_public_key.n)) % searcher_RSA_public_key.n\n",
    "\n",
    "# Verify the signature\n",
    "assert pow(signature, searcher_RSA_public_key.e, searcher_RSA_public_key.n) == unblinded_ticket_long\n",
    "\n",
    "print(\"Signature of searcher valid!\\n\")\n",
    "print(f'Searcher signature\\n{web3.toHex(signature)}')"
   ]
  },
  {
   "cell_type": "markdown",
   "id": "c734d008",
   "metadata": {},
   "source": [
    "Sender can now priovide the signature to the searcher, proving it has registered a ticket (signature would have to be encrypted using the searchers pubkey or submitted through an private channel).\n",
    "The searcher would include the transaction in a bundle, although it doesn't pay any feed. In compensation, the searcher would invalidate the used ticket by storing the signature/blinded ticket in a db."
   ]
  },
  {
   "cell_type": "code",
   "execution_count": 10,
   "id": "84473a7e",
   "metadata": {},
   "outputs": [
    {
     "name": "stdout",
     "output_type": "stream",
     "text": [
      "Signed transaction\n",
      "0xf9016b80850ba43b74008094f0109fc8df283027b6285cc889f5aa624eac1f55872386f26fc10000b90100934f59ea90e74a79299da951d705d1235f9002c0c878bd468d5695a3de4e9a5c6a4dd11e7f4c9a226b10e64b1e1221f5af6dcb8261fe23b13a572fed518379c760d206b8ea5235184ba25b3f46cd8cb486390776f2eaf73921e869266b7bce7bc516e8bafe060563f8db25b95e9c7dfb2de9f78a09c01e6470561c9734599061dfe787f714d26d37b2800b01c53f1d4f1358e9ba94c00d668ee1f44fda8485bdb525037cc9686cc3736db8ec9ce981e1d065fa7e3483341d066c816c0fd54e13f8560dbc3019d09c607ee0e4ce3d8b616bcaa4311642072cfc2d011344f3462562d203b2cce362588267849edd6e1a92c42e9f316e76288215c6806dfa4010da26a03c47442e94ff80356fa9d291004c26fb1b050fcd82e8386c047fb8acd1a20b42a077956e58d62cbbdffcaa0644208adebad870755c857090bcda3aba0e0ef47a75\n"
     ]
    }
   ],
   "source": [
    "transaction = {\n",
    "    'to': \"0x...\",  \n",
    "    'value': web3.toWei(0.01, 'ether'),  \n",
    "    'gas': 0,\n",
    "    'gasPrice': web3.toWei('50', 'gwei'),\n",
    "    'nonce': web3.eth.getTransactionCount(sender_account.address),  \n",
    "    'chainId': 1,\n",
    "    'data': web3.toHex(signature)\n",
    "}\n",
    "\n",
    "# Sign the transaction\n",
    "signed_txn = web3.eth.account.sign_transaction(transaction, sender_private_key)\n",
    "\n",
    "# Get the raw transaction\n",
    "raw_transaction = signed_txn.rawTransaction\n",
    "\n",
    "print(f'Signed transaction\\n{raw_transaction.hex()}')"
   ]
  },
  {
   "cell_type": "markdown",
   "id": "ff04e7d8",
   "metadata": {},
   "source": [
    "Searcher could now include the transaction (although not paying anything) and invalidate the used ticket"
   ]
  }
 ],
 "metadata": {
  "kernelspec": {
   "display_name": "mev",
   "language": "python",
   "name": "mev"
  },
  "language_info": {
   "codemirror_mode": {
    "name": "ipython",
    "version": 3
   },
   "file_extension": ".py",
   "mimetype": "text/x-python",
   "name": "python",
   "nbconvert_exporter": "python",
   "pygments_lexer": "ipython3",
   "version": "3.8.9"
  }
 },
 "nbformat": 4,
 "nbformat_minor": 5
}
